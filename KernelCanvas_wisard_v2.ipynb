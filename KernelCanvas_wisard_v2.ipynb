{
  "cells": [
    {
      "cell_type": "markdown",
      "metadata": {
        "id": "uXJ0UMry0F7B"
      },
      "source": [
        "#*Kernel Canvas*\n"
      ]
    },
    {
      "cell_type": "markdown",
      "metadata": {
        "id": "4iCktd8D0nuH"
      },
      "source": [
        "O Kernel Canvas é um método de normalização capaz de lidar com dados que não possuem tamanho fixo. Sua concepção foi motivada para classificação de dados de séries temporais e/ou de ambientes dinâmicos, que, conforme se faz a necessidade, requerem registrar uma \"janela de contexto\" aumentando com tendência exponencial o tamanho dos dados. Nesse panorama, essa ferramenta também reduzir a dimensionalização dos dados mantendo a relação da janela."
      ]
    },
    {
      "cell_type": "markdown",
      "metadata": {},
      "source": [
        "run ```sudo apt install g++ gcc python3-dev for dependencies if running locally```"
      ]
    },
    {
      "cell_type": "code",
      "execution_count": null,
      "metadata": {
        "cellView": "form",
        "colab": {
          "base_uri": "https://localhost:8080/"
        },
        "collapsed": true,
        "id": "MP5Jm6D8O--l",
        "outputId": "e73c770b-913f-47f8-96d2-e1856d1f5757"
      },
      "outputs": [
        {
          "name": "stdout",
          "output_type": "stream",
          "text": [
            "Note: you may need to restart the kernel to use updated packages.\n",
            "Requirement already satisfied: ipywidgets in ./env/lib/python3.12/site-packages (8.1.7)\n",
            "Requirement already satisfied: comm>=0.1.3 in ./env/lib/python3.12/site-packages (from ipywidgets) (0.2.2)\n",
            "Requirement already satisfied: ipython>=6.1.0 in ./env/lib/python3.12/site-packages (from ipywidgets) (9.3.0)\n",
            "Requirement already satisfied: traitlets>=4.3.1 in ./env/lib/python3.12/site-packages (from ipywidgets) (5.14.3)\n",
            "Requirement already satisfied: widgetsnbextension~=4.0.14 in ./env/lib/python3.12/site-packages (from ipywidgets) (4.0.14)\n",
            "Requirement already satisfied: jupyterlab_widgets~=3.0.15 in ./env/lib/python3.12/site-packages (from ipywidgets) (3.0.15)\n",
            "Requirement already satisfied: decorator in ./env/lib/python3.12/site-packages (from ipython>=6.1.0->ipywidgets) (5.2.1)\n",
            "Requirement already satisfied: ipython-pygments-lexers in ./env/lib/python3.12/site-packages (from ipython>=6.1.0->ipywidgets) (1.1.1)\n",
            "Requirement already satisfied: jedi>=0.16 in ./env/lib/python3.12/site-packages (from ipython>=6.1.0->ipywidgets) (0.19.2)\n",
            "Requirement already satisfied: matplotlib-inline in ./env/lib/python3.12/site-packages (from ipython>=6.1.0->ipywidgets) (0.1.7)\n",
            "Requirement already satisfied: pexpect>4.3 in ./env/lib/python3.12/site-packages (from ipython>=6.1.0->ipywidgets) (4.9.0)\n",
            "Requirement already satisfied: prompt_toolkit<3.1.0,>=3.0.41 in ./env/lib/python3.12/site-packages (from ipython>=6.1.0->ipywidgets) (3.0.51)\n",
            "Requirement already satisfied: pygments>=2.4.0 in ./env/lib/python3.12/site-packages (from ipython>=6.1.0->ipywidgets) (2.19.1)\n",
            "Requirement already satisfied: stack_data in ./env/lib/python3.12/site-packages (from ipython>=6.1.0->ipywidgets) (0.6.3)\n",
            "Requirement already satisfied: parso<0.9.0,>=0.8.4 in ./env/lib/python3.12/site-packages (from jedi>=0.16->ipython>=6.1.0->ipywidgets) (0.8.4)\n",
            "Requirement already satisfied: ptyprocess>=0.5 in ./env/lib/python3.12/site-packages (from pexpect>4.3->ipython>=6.1.0->ipywidgets) (0.7.0)\n",
            "Requirement already satisfied: wcwidth in ./env/lib/python3.12/site-packages (from prompt_toolkit<3.1.0,>=3.0.41->ipython>=6.1.0->ipywidgets) (0.2.13)\n",
            "Requirement already satisfied: executing>=1.2.0 in ./env/lib/python3.12/site-packages (from stack_data->ipython>=6.1.0->ipywidgets) (2.2.0)\n",
            "Requirement already satisfied: asttokens>=2.1.0 in ./env/lib/python3.12/site-packages (from stack_data->ipython>=6.1.0->ipywidgets) (3.0.0)\n",
            "Requirement already satisfied: pure-eval in ./env/lib/python3.12/site-packages (from stack_data->ipython>=6.1.0->ipywidgets) (0.2.3)\n",
            "Note: you may need to restart the kernel to use updated packages.\n",
            "Requirement already satisfied: numba in ./env/lib/python3.12/site-packages (0.61.2)\n",
            "Requirement already satisfied: llvmlite<0.45,>=0.44.0dev0 in ./env/lib/python3.12/site-packages (from numba) (0.44.0)\n",
            "Requirement already satisfied: numpy<2.3,>=1.24 in ./env/lib/python3.12/site-packages (from numba) (2.2.6)\n",
            "Note: you may need to restart the kernel to use updated packages.\n",
            "Collecting pandas\n",
            "  Downloading pandas-2.2.3-cp312-cp312-manylinux_2_17_x86_64.manylinux2014_x86_64.whl.metadata (89 kB)\n",
            "\u001b[2K     \u001b[90m━━━━━━━━━━━━━━━━━━━━━━━━━━━━━━━━━━━━━━━\u001b[0m \u001b[32m89.9/89.9 kB\u001b[0m \u001b[31m261.9 kB/s\u001b[0m eta \u001b[36m0:00:00\u001b[0m \u001b[36m0:00:01\u001b[0m\n",
            "\u001b[?25hRequirement already satisfied: numpy>=1.26.0 in ./env/lib/python3.12/site-packages (from pandas) (2.2.6)\n",
            "Requirement already satisfied: python-dateutil>=2.8.2 in ./env/lib/python3.12/site-packages (from pandas) (2.9.0.post0)\n",
            "Collecting pytz>=2020.1 (from pandas)\n",
            "  Downloading pytz-2025.2-py2.py3-none-any.whl.metadata (22 kB)\n",
            "Collecting tzdata>=2022.7 (from pandas)\n",
            "  Downloading tzdata-2025.2-py2.py3-none-any.whl.metadata (1.4 kB)\n",
            "Requirement already satisfied: six>=1.5 in ./env/lib/python3.12/site-packages (from python-dateutil>=2.8.2->pandas) (1.17.0)\n",
            "Downloading pandas-2.2.3-cp312-cp312-manylinux_2_17_x86_64.manylinux2014_x86_64.whl (12.7 MB)\n",
            "\u001b[2K   \u001b[90m━━━━━━━━━━━━━━━━━━━━━━━━━━━━━━━━━━━━━━━━\u001b[0m \u001b[32m12.7/12.7 MB\u001b[0m \u001b[31m17.8 MB/s\u001b[0m eta \u001b[36m0:00:00\u001b[0m00:01\u001b[0m00:01\u001b[0m\n",
            "\u001b[?25hDownloading pytz-2025.2-py2.py3-none-any.whl (509 kB)\n",
            "\u001b[2K   \u001b[91m━━━━━━━━━━━━━━━━━━━━━━━━━━━━━━━━━━━━━━\u001b[0m\u001b[90m╺\u001b[0m \u001b[32m501.8/509.2 kB\u001b[0m \u001b[31m150.6 MB/s\u001b[0m eta \u001b[36m0:00:01\u001b[0m"
          ]
        }
      ],
      "source": [
        "#@title Install dependencies [RUN ME]\n",
        "%pip install --upgrade setuptools\n",
        "%pip install ipykernel\n",
        "%pip install pybind11\n",
        "%pip install numpy\n",
        "%pip install matplotlib\n",
        "%pip install scikit-learn\n",
        "%pip install ipywidgets\n",
        "%pip install numba\n",
        "%pip install pandas\n",
        "%pip install wheel\n",
        "%pip install git+https://github.com/IAZero/wisardpkg.git@develop\n"
      ]
    },
    {
      "cell_type": "code",
      "execution_count": 1,
      "metadata": {
        "id": "7huXlj_9PFze"
      },
      "outputs": [],
      "source": [
        "import wisardpkg as wp\n",
        "import numpy as np\n",
        "import matplotlib.pyplot as plt"
      ]
    },
    {
      "cell_type": "markdown",
      "metadata": {
        "id": "4IPgll295Ni4"
      },
      "source": [
        "## Implementação\n",
        "\n",
        "Quando instâncidado, é necessário informar a dimensão dos dados (*dim*) a serem normalizados e o número de *Kernels* (*numberOfKernels*) que deseja se criar. O mínimo aceito é 1 para todos esses valores.\n",
        "\n",
        "Quanto aos parâmetros opcionais:\n",
        "- ***bitsBykernel*** : como o nome indica, se refere a quantidade de bits que representará cada *kernel*. Mínimo aceito é 1 e o padrão quando não informado.\n",
        "\n",
        "- ***activationDegree*** : se refere a proporção de *kernels* a serem ativados.\n",
        "\n",
        "- ***useDirection*** : quando ativado, considera a *janela de contexto* dos dados. Guarda, para cada kernel, o valor do kernel que foi acessado antes e o depois.\n",
        "\n",
        "\n",
        "\n",
        "```\n",
        "numberOfKernels = 10\n",
        "dimension = 2\n",
        "\n",
        "kc = KernelCanvas(\n",
        "    dimension,               # required; type [int]\n",
        "    numberOfKernels,         # required; type [int]\n",
        "    bitsBykernel = 3,        # optional; type [int]\n",
        "    activationDegree = 0.07, # optional; type [float]\n",
        "    useDirection = False     # optional; type [boolean]\n",
        ")\n",
        "```"
      ]
    },
    {
      "cell_type": "code",
      "execution_count": 9,
      "metadata": {
        "id": "WPpPnbUWifiv"
      },
      "outputs": [],
      "source": [
        "from random import random\n",
        "\n",
        "## Criando objeto para dados de 2 dimensões, 10 kernels e 3 bitis pra cada kernel\n",
        "kc = wp.KernelCanvas(2,10, bitsByKernel = 3, activationDegree=0.07, useDirection=False)"
      ]
    },
    {
      "cell_type": "markdown",
      "metadata": {
        "id": "gNoMkwis-xg-"
      },
      "source": [
        "Dando uma olhada nos dados"
      ]
    },
    {
      "cell_type": "code",
      "execution_count": 10,
      "metadata": {
        "colab": {
          "base_uri": "https://localhost:8080/"
        },
        "id": "hqa4IuRp-e6G",
        "outputId": "2c422d1b-90b9-4c33-83af-db6654f7e972"
      },
      "outputs": [
        {
          "data": {
            "text/plain": [
              "[[1.2048144456529508, 8.418399239480852],\n",
              " [0.30082036118507904, 9.799966622005254],\n",
              " [1.6629415891685406, 2.2848481322212844],\n",
              " [0.9458521553642063, 8.949325263801768],\n",
              " [4.799267839549445, 2.501954540905081],\n",
              " [5.992828666198424, 8.685327314347063],\n",
              " [5.122071596444243, 5.2569227523289355],\n",
              " [0.3205207434936741, 5.88832867308402],\n",
              " [9.422398761068308, 0.5412965403207659],\n",
              " [9.11220679173161, 6.410396222943277]]"
            ]
          },
          "execution_count": 10,
          "metadata": {},
          "output_type": "execute_result"
        }
      ],
      "source": [
        "\n",
        "### Criação de dados\n",
        "sequenceData = []\n",
        "for i in range(10):\n",
        "    point = [0.0,0.0] # duas dimensões\n",
        "    point[0] = 10*random()\n",
        "    point[1] = 10*random()\n",
        "    sequenceData.append(point)\n",
        "\n",
        "sequenceData"
      ]
    },
    {
      "cell_type": "markdown",
      "metadata": {
        "id": "NIE_CslW-7qd"
      },
      "source": [
        "###Fazendo transformação - Método *transform()*\n",
        "\n",
        "O método recebe uma **lista** de pontos de valores reais e retorna uma lista de novos inputs binários mapeados pelos kernels. O tamanho será igual a `numberOfKernels * bitsBykernel`."
      ]
    },
    {
      "cell_type": "code",
      "execution_count": 11,
      "metadata": {
        "colab": {
          "base_uri": "https://localhost:8080/"
        },
        "id": "Y9tfVhX_--Du",
        "outputId": "6515ef3e-fe55-4eee-cd78-a105fa53a2c9"
      },
      "outputs": [
        {
          "name": "stdout",
          "output_type": "stream",
          "text": [
            "[1, 1, 1, 0, 0, 0, 1, 1, 1, 1, 1, 1, 1, 1, 1, 0, 0, 0, 0, 0, 0, 1, 1, 1, 1, 1, 1, 0, 0, 0]\n",
            "30\n"
          ]
        }
      ],
      "source": [
        "out = kc.transform(sequenceData)\n",
        "print(out)\n",
        "print(len(out))"
      ]
    },
    {
      "cell_type": "code",
      "execution_count": 12,
      "metadata": {
        "id": "9ziUxFDYgeT1"
      },
      "outputs": [],
      "source": [
        "sequence_ = []\n",
        "sequenceData_ = []\n",
        "\n",
        "for i in range(10):\n",
        "  sequenceData_ = []\n",
        "  for j in range(10):\n",
        "    point = [0.0,0.0]\n",
        "    point[0] = 10*random()\n",
        "    point[1] = 10*random()\n",
        "    sequenceData_.append(point)\n",
        "\n",
        "  sequence_.append(sequenceData_)"
      ]
    },
    {
      "cell_type": "code",
      "execution_count": 13,
      "metadata": {
        "colab": {
          "base_uri": "https://localhost:8080/"
        },
        "id": "Rh0-5uDDhnDV",
        "outputId": "53ee60df-c326-41b4-87cf-9f5a21f4039f"
      },
      "outputs": [
        {
          "data": {
            "text/plain": [
              "[[6.360067321273526, 5.140223517557203],\n",
              " [6.982349478565024, 1.0577602527689423],\n",
              " [8.471992784922481, 9.416632597280701],\n",
              " [6.915432158493204, 7.737302862992469],\n",
              " [3.4756567094763025, 9.57857991047023],\n",
              " [1.9098399359940288, 7.395360770496813],\n",
              " [9.077712831105668, 3.7521496147192868],\n",
              " [8.477573532905877, 8.306783087435347],\n",
              " [3.8474269504176037, 1.6810729908332678],\n",
              " [3.5082828803768393, 6.652709211301967]]"
            ]
          },
          "execution_count": 13,
          "metadata": {},
          "output_type": "execute_result"
        }
      ],
      "source": [
        "sequence_[0]"
      ]
    },
    {
      "cell_type": "code",
      "execution_count": 14,
      "metadata": {
        "colab": {
          "base_uri": "https://localhost:8080/"
        },
        "id": "WZb_vOikgwQ9",
        "outputId": "a37aed8b-e6c8-46c7-a94d-b68966428ae9"
      },
      "outputs": [
        {
          "name": "stdout",
          "output_type": "stream",
          "text": [
            "1 1 1 1 1 1 1 1 1 1 1 1 1 1 1 0 0 0 1 1 1 1 1 1 1 1 1 1 1 1 \n",
            "\n",
            "0 0 0 1 1 1 0 0 0 1 1 1 1 1 1 0 0 0 1 1 1 0 0 0 1 1 1 0 0 0 \n",
            "\n",
            "1 1 1 0 0 0 1 1 1 1 1 1 1 1 1 0 0 0 1 1 1 0 0 0 0 0 0 0 0 0 \n",
            "\n",
            "1 1 1 1 1 1 1 1 1 1 1 1 0 0 0 1 1 1 0 0 0 1 1 1 1 1 1 0 0 0 \n",
            "\n",
            "1 1 1 1 1 1 1 1 1 1 1 1 0 0 0 1 1 1 1 1 1 0 0 0 1 1 1 0 0 0 \n",
            "\n",
            "1 1 1 1 1 1 1 1 1 1 1 1 0 0 0 1 1 1 1 1 1 0 0 0 1 1 1 1 1 1 \n",
            "\n",
            "1 1 1 0 0 0 1 1 1 1 1 1 1 1 1 1 1 1 1 1 1 0 0 0 1 1 1 1 1 1 \n",
            "\n",
            "1 1 1 1 1 1 0 0 0 1 1 1 1 1 1 1 1 1 0 0 0 0 0 0 1 1 1 0 0 0 \n",
            "\n",
            "1 1 1 0 0 0 1 1 1 1 1 1 1 1 1 1 1 1 0 0 0 1 1 1 1 1 1 0 0 0 \n",
            "\n",
            "1 1 1 0 0 0 1 1 1 1 1 1 1 1 1 0 0 0 0 0 0 1 1 1 0 0 0 0 0 0 \n",
            "\n"
          ]
        }
      ],
      "source": [
        "out_ = [kc.transform(x) for x in sequence_]\n",
        "\n",
        "for i in range(10):\n",
        "  print(*out_[i],'\\n')"
      ]
    },
    {
      "cell_type": "code",
      "execution_count": 15,
      "metadata": {
        "colab": {
          "base_uri": "https://localhost:8080/",
          "height": 185
        },
        "id": "oKBP3uJVdwEV",
        "outputId": "1892acd2-81de-474a-da62-aa42312fbce1"
      },
      "outputs": [
        {
          "data": {
            "image/png": "[encoded data removed]",
            "text/plain": [
              "<Figure size 640x480 with 1 Axes>"
            ]
          },
          "metadata": {},
          "output_type": "display_data"
        }
      ],
      "source": [
        "\n",
        "im = np.reshape(out, (3,10))\n",
        "im = 1 - im\n",
        "\n",
        "plt.imshow(im, cmap=\"gray\", vmin=0., vmax=1.)\n",
        "plt.axis(\"off\")\n",
        "plt.show()"
      ]
    },
    {
      "cell_type": "markdown",
      "metadata": {
        "id": "PpKvDDffc_Se"
      },
      "source": [
        "-----"
      ]
    },
    {
      "cell_type": "code",
      "execution_count": 17,
      "metadata": {
        "colab": {
          "base_uri": "https://localhost:8080/"
        },
        "id": "PHGSaFu3XjBH",
        "outputId": "8a9380eb-8ad0-409b-d639-1674113c4bb9"
      },
      "outputs": [
        {
          "name": "stdout",
          "output_type": "stream",
          "text": [
            "Forma dos dados: (10992, 16)\n",
            "Forma dos labels: (10992,)\n"
          ]
        }
      ],
      "source": [
        "#@title Exemplo em construção\n",
        "from sklearn.datasets import fetch_openml\n",
        "from sklearn.model_selection import train_test_split\n",
        "import matplotlib.pyplot as plt\n",
        "\n",
        "\n",
        "pendigits = fetch_openml('pendigits', version=1, as_frame=False)\n",
        "\n",
        "X = pendigits.data\n",
        "y = pendigits.target\n",
        "\n",
        "# Verificar a forma dos dados\n",
        "print(f\"Forma dos dados: {X.shape}\")\n",
        "print(f\"Forma dos labels: {y.shape}\")\n"
      ]
    },
    {
      "cell_type": "code",
      "execution_count": 18,
      "metadata": {
        "id": "PZCd3H5BpBbp"
      },
      "outputs": [],
      "source": [
        "X_ = [ ]\n",
        "for i in range(len(X)):\n",
        "  points = [ ]\n",
        "  for j in range(0, len(X[0]), 2):\n",
        "    point = [X[i, j], X[i, j+1]]\n",
        "    points.append(point)\n",
        "  X_.append(points)"
      ]
    },
    {
      "cell_type": "code",
      "execution_count": 19,
      "metadata": {
        "colab": {
          "base_uri": "https://localhost:8080/"
        },
        "id": "c8DjVYGjpvUx",
        "outputId": "c6d0c541-44a7-44bd-db0b-b1bd7ba6b657"
      },
      "outputs": [
        {
          "data": {
            "text/plain": [
              "[[np.int64(47), np.int64(100)],\n",
              " [np.int64(27), np.int64(81)],\n",
              " [np.int64(57), np.int64(37)],\n",
              " [np.int64(26), np.int64(0)],\n",
              " [np.int64(0), np.int64(23)],\n",
              " [np.int64(56), np.int64(53)],\n",
              " [np.int64(100), np.int64(90)],\n",
              " [np.int64(40), np.int64(98)]]"
            ]
          },
          "execution_count": 19,
          "metadata": {},
          "output_type": "execute_result"
        }
      ],
      "source": [
        "X_[0]"
      ]
    },
    {
      "cell_type": "code",
      "execution_count": 20,
      "metadata": {
        "id": "-Bohd3Ofp8jR"
      },
      "outputs": [],
      "source": [
        "def show_digits(digit, label):\n",
        "  x_coords = [point[0] for point in digit]\n",
        "  y_coords = [point[1] for point in digit]\n",
        "  plt.figure(figsize=(4,4))\n",
        "  plt.title(f\"Label: {label}\")\n",
        "  plt.plot(x_coords, y_coords, 'ro-')  # Plot the points\n",
        "  plt.axis('equal')\n",
        "  plt.show()"
      ]
    },
    {
      "cell_type": "code",
      "execution_count": 21,
      "metadata": {
        "colab": {
          "base_uri": "https://localhost:8080/",
          "height": 391
        },
        "id": "wF2gZatpn1IZ",
        "outputId": "d37a48d5-bd88-4956-a928-7efe4e1abaf2"
      },
      "outputs": [
        {
          "data": {
            "image/png": "[encoded data removed]",
            "text/plain": [
              "<Figure size 400x400 with 1 Axes>"
            ]
          },
          "metadata": {},
          "output_type": "display_data"
        }
      ],
      "source": [
        "n = 2\n",
        "show_digits(X_[n], y[n])"
      ]
    },
    {
      "cell_type": "code",
      "execution_count": 22,
      "metadata": {
        "id": "jzZxGZhxs67B"
      },
      "outputs": [],
      "source": [
        "X_train, X_test, y_train, y_test = train_test_split(X_, y, test_size=0.2, random_state=42)"
      ]
    },
    {
      "cell_type": "code",
      "execution_count": 23,
      "metadata": {
        "colab": {
          "base_uri": "https://localhost:8080/"
        },
        "id": "Z3jOS4zctHSJ",
        "outputId": "c0f90e91-d792-4500-926f-32ce871bd22f"
      },
      "outputs": [
        {
          "data": {
            "text/plain": [
              "[[np.int64(27), np.int64(100)],\n",
              " [np.int64(0), np.int64(58)],\n",
              " [np.int64(12), np.int64(5)],\n",
              " [np.int64(62), np.int64(0)],\n",
              " [np.int64(100), np.int64(39)],\n",
              " [np.int64(97), np.int64(91)],\n",
              " [np.int64(48), np.int64(97)],\n",
              " [np.int64(18), np.int64(53)]]"
            ]
          },
          "execution_count": 23,
          "metadata": {},
          "output_type": "execute_result"
        }
      ],
      "source": [
        "X_test[0]"
      ]
    },
    {
      "cell_type": "code",
      "execution_count": 24,
      "metadata": {
        "id": "BhbC7a5TtPhh"
      },
      "outputs": [],
      "source": [
        "kernel_ = wp.KernelCanvas(2, 256, bitsByKernel = 1, useDirection=True)"
      ]
    },
    {
      "cell_type": "code",
      "execution_count": 25,
      "metadata": {
        "colab": {
          "base_uri": "https://localhost:8080/"
        },
        "id": "cxOxC_QrtNBp",
        "outputId": "14530dff-c1e4-42e6-de1a-6735c8a1d9ce"
      },
      "outputs": [
        {
          "name": "stdout",
          "output_type": "stream",
          "text": [
            "0 1 0 1 0 0 0 0 0 1 1 0 1 0 0 0 0 0 0 1 0 0 0 0 0 0 0 1 0 0 0 1 0 0 0 0 1 1 0 1 1 1 0 0 0 0 1 1 1 0 0 0 1 0 0 0 0 0 0 0 1 1 0 0 0 0 1 0 0 0 0 0 0 0 0 1 0 1 0 0 1 0 0 0 0 0 0 0 0 0 1 1 0 0 0 0 0 0 1 1 0 1 0 0 0 1 0 0 1 0 0 1 0 1 0 0 0 1 0 0 0 1 0 0 0 1 0 0 0 1 1 0 0 0 1 0 0 0 0 1 0 0 0 0 0 0 0 0 1 0 0 0 1 1 1 0 1 0 0 1 1 1 1 1 1 1 1 1 1 1 1 1 1 1 1 1 1 1 1 0 1 0 1 0 0 0 0 0 0 0 0 0 0 0 0 0 0 0 1 0 0 0 0 1 0 0 0 0 0 1 1 0 1 0 0 0 0 0 0 0 0 0 0 0 1 0 1 0 0 0 0 0 0 0 0 0 0 0 1 0 0 1 0 0 1 1 0 1 0 0 1 0 0 0 0 1 \n",
            "\n",
            "0 0 0 0 0 0 0 0 0 0 0 0 0 0 1 0 0 1 0 1 0 0 1 0 0 1 0 1 0 1 0 0 0 0 0 0 0 0 0 0 1 0 0 0 0 0 0 1 0 1 0 1 0 1 0 0 0 0 0 0 0 1 0 0 0 0 0 1 0 0 0 0 0 0 0 1 0 0 0 0 0 0 0 0 0 0 1 0 0 1 0 0 0 0 1 1 0 0 1 1 0 1 0 1 0 0 0 0 0 0 0 0 0 1 0 0 0 0 0 0 0 0 0 0 0 0 0 1 1 1 1 0 0 1 1 0 1 1 0 1 0 0 0 0 1 1 1 0 0 0 0 0 0 1 0 0 0 0 0 0 1 1 1 1 1 1 1 1 1 1 1 1 1 1 1 1 1 1 0 0 1 0 0 0 0 0 1 0 0 1 0 1 0 1 0 0 0 0 0 0 0 1 1 0 0 0 1 1 0 0 1 0 0 0 0 1 1 0 0 0 0 0 1 0 0 0 1 0 0 0 1 0 0 1 0 0 0 1 0 0 0 0 0 1 0 1 0 0 0 1 0 1 0 0 0 1 \n",
            "\n",
            "0 1 0 1 1 1 0 0 0 0 1 0 0 0 0 0 0 1 1 1 0 0 1 0 0 0 0 1 0 0 0 0 0 0 0 0 1 0 0 0 1 0 0 0 0 0 0 1 1 1 0 0 1 0 1 1 0 0 0 0 0 1 0 1 0 0 0 1 0 0 0 0 0 1 0 1 0 1 0 0 0 0 0 0 0 0 1 0 0 1 0 0 0 0 1 0 0 0 0 1 0 1 0 1 0 0 0 0 0 0 0 0 0 1 0 0 0 0 0 0 0 0 0 0 0 0 0 1 1 1 1 1 0 1 0 1 1 1 0 1 0 0 0 0 1 0 0 0 0 0 0 0 0 0 0 0 0 0 0 0 1 1 1 1 1 1 1 1 1 1 1 1 1 1 1 1 1 1 0 0 1 0 0 0 0 0 1 0 0 0 0 0 0 1 0 0 0 0 1 0 0 1 0 0 0 0 1 1 1 1 1 0 1 0 0 1 1 1 0 0 1 0 1 0 0 0 1 0 1 0 0 0 0 1 0 0 0 1 0 1 0 0 0 0 0 0 0 0 0 1 1 1 0 0 0 1 \n",
            "\n",
            "0 1 0 1 0 1 1 0 0 0 0 0 0 0 1 0 0 1 0 1 0 0 0 0 0 0 0 1 0 0 0 0 0 0 0 0 0 0 0 0 1 1 1 0 0 0 0 1 1 0 0 1 0 1 1 0 0 0 0 0 0 1 0 0 0 0 0 0 0 0 0 0 0 0 0 1 0 1 1 0 1 0 0 0 0 0 0 0 1 0 0 1 0 0 1 1 0 0 1 1 0 1 0 0 0 0 0 0 0 0 0 0 1 1 0 0 0 1 0 0 0 0 0 0 0 0 0 1 1 1 0 0 0 1 0 0 1 0 0 0 0 0 0 1 0 0 0 0 0 0 0 0 0 1 1 0 0 0 0 0 1 1 1 1 1 1 1 1 1 1 1 1 1 1 1 1 1 1 0 0 1 0 0 0 0 0 0 0 0 0 0 0 0 0 0 0 0 0 1 0 0 0 1 0 0 0 0 0 1 1 1 0 0 0 0 1 1 0 0 0 0 0 0 0 0 0 1 0 1 0 1 0 0 0 0 0 0 1 0 0 0 0 0 1 0 1 0 0 0 1 0 1 0 0 0 1 \n",
            "\n",
            "0 1 0 1 1 1 0 0 0 0 1 0 1 0 0 0 0 0 1 1 0 0 1 0 0 0 0 1 0 0 0 0 0 0 0 0 1 1 0 0 0 1 0 0 0 0 1 1 1 1 0 1 0 1 0 0 0 0 0 0 0 1 0 0 1 0 1 1 0 0 0 0 0 0 0 0 0 1 0 0 1 0 0 0 0 0 1 0 1 1 0 1 0 0 0 1 0 0 0 0 0 0 0 0 0 0 0 0 0 0 0 0 0 0 0 0 0 1 0 0 0 0 0 0 0 0 0 0 0 1 1 1 0 0 0 0 1 1 0 0 0 0 0 0 0 0 0 0 0 0 0 0 0 1 0 0 0 0 0 0 1 1 1 1 1 1 1 1 1 1 1 1 1 1 1 1 1 1 0 0 1 0 0 0 0 0 1 0 0 1 0 0 0 0 0 0 0 0 1 1 0 0 0 0 0 0 0 1 1 1 1 0 1 0 0 0 1 1 1 0 0 0 1 0 1 0 1 0 1 0 1 0 0 0 0 0 0 0 0 1 0 0 0 0 0 1 0 1 0 0 1 0 1 0 0 1 \n",
            "\n",
            "0 1 0 1 0 1 1 0 0 1 1 0 0 0 0 0 0 0 0 1 0 0 0 0 1 0 0 1 0 0 0 0 0 0 0 0 1 1 0 0 0 1 0 0 0 0 1 1 1 0 0 0 0 1 0 0 0 0 0 0 0 0 0 0 0 0 0 0 0 0 0 0 0 0 0 1 0 1 0 0 1 0 0 0 0 0 0 0 1 0 1 1 0 0 1 0 0 0 0 1 0 0 0 0 0 0 0 0 0 0 0 0 1 1 0 0 0 1 0 0 0 1 0 0 0 0 0 1 0 1 1 1 0 1 0 0 0 0 0 0 0 0 0 0 0 0 0 0 1 0 0 0 0 0 1 0 0 0 0 0 1 1 1 1 1 1 1 1 1 1 1 1 1 1 1 1 1 1 0 0 0 0 0 0 0 0 0 0 0 0 0 0 0 0 0 0 0 0 1 0 0 0 0 1 0 0 0 0 1 1 1 0 1 0 0 0 1 1 0 0 0 0 0 0 1 0 0 0 1 0 0 0 0 0 0 0 0 1 0 0 0 1 0 0 0 1 0 1 0 0 1 0 0 0 0 1 \n",
            "\n",
            "0 1 0 1 0 1 1 0 0 1 1 0 1 0 0 1 0 0 0 1 0 0 0 1 0 0 0 1 1 0 0 0 0 0 0 0 1 1 0 1 0 0 1 0 0 0 1 1 1 0 0 0 0 1 1 0 0 0 0 0 0 1 0 0 0 0 0 0 0 0 0 0 0 0 0 1 0 1 0 0 1 0 0 0 0 0 0 0 0 0 1 1 0 0 1 0 0 0 0 0 0 1 0 0 0 0 1 0 1 0 0 1 0 1 0 0 0 1 0 0 0 1 0 0 0 1 0 0 0 1 1 0 1 1 0 0 0 1 0 0 0 0 0 0 0 0 0 0 1 0 0 0 1 1 1 0 1 0 0 0 1 1 1 1 1 1 1 1 1 1 1 1 1 1 1 1 1 1 0 0 1 0 0 0 0 0 0 0 0 0 0 0 0 1 0 0 0 0 1 0 0 0 0 1 0 0 0 0 0 1 1 0 0 0 0 0 1 0 0 0 0 0 0 0 1 0 1 0 1 0 0 0 0 0 0 0 0 1 0 0 0 1 0 0 1 0 0 0 0 0 1 0 0 0 0 1 \n",
            "\n",
            "0 1 0 1 0 1 0 0 0 1 1 0 0 0 1 0 0 1 0 1 0 0 1 0 0 0 0 1 0 1 0 0 0 0 0 0 1 1 0 0 0 0 0 0 0 0 1 1 0 1 0 1 0 0 0 0 1 0 0 0 0 0 0 0 0 0 0 1 0 0 0 0 0 0 0 1 0 1 1 0 0 0 1 0 0 0 1 0 0 1 1 0 0 1 1 0 0 0 1 1 0 1 0 0 0 0 0 0 0 0 0 1 0 1 0 0 0 0 0 0 0 0 0 0 0 0 0 1 0 1 1 1 0 1 0 0 1 1 0 0 0 0 0 0 1 0 0 0 1 0 0 0 0 0 0 0 0 0 0 0 1 1 1 1 1 1 1 1 1 1 1 1 1 1 1 1 1 1 0 0 1 0 0 0 0 0 1 0 0 0 0 0 0 1 0 0 0 0 1 0 0 0 0 0 0 0 0 1 1 1 1 0 1 0 0 0 1 0 0 0 0 0 1 0 1 1 1 0 1 0 1 0 0 1 0 0 1 0 0 0 0 1 0 1 0 0 0 1 0 1 1 1 0 0 0 1 \n",
            "\n"
          ]
        }
      ],
      "source": [
        "train_points = [kernel_.transform(x) for x in X_train]\n",
        "test_points = [kernel_.transform(x) for x in X_test]\n",
        "\n",
        "for i in range(8):\n",
        "  print(*train_points[i],'\\n')"
      ]
    },
    {
      "cell_type": "code",
      "execution_count": 26,
      "metadata": {
        "colab": {
          "base_uri": "https://localhost:8080/",
          "height": 406
        },
        "id": "P9z4XCDNuXVB",
        "outputId": "32ce8651-3ead-4a83-f6c2-54eac7672106"
      },
      "outputs": [
        {
          "data": {
            "image/png": "[encoded data removed]",
            "text/plain": [
              "<Figure size 640x480 with 1 Axes>"
            ]
          },
          "metadata": {},
          "output_type": "display_data"
        }
      ],
      "source": [
        "bitmap = np.reshape(train_points[0], (16,16))\n",
        "\n",
        "plt.imshow(bitmap, cmap='gray', interpolation='nearest')\n",
        "plt.axis('off')  # Remove os eixos\n",
        "plt.show()"
      ]
    },
    {
      "cell_type": "code",
      "execution_count": 27,
      "metadata": {
        "id": "THGoTCSHtSqp"
      },
      "outputs": [],
      "source": [
        "model = wp.Wisard(32)"
      ]
    },
    {
      "cell_type": "code",
      "execution_count": 28,
      "metadata": {
        "id": "2jMaWGqktVca"
      },
      "outputs": [],
      "source": [
        "train_ds = wp.DataSet(train_points, y_train)\n",
        "test_ds = wp.DataSet(test_points, y_test)"
      ]
    },
    {
      "cell_type": "code",
      "execution_count": 29,
      "metadata": {
        "id": "q5-gT9p1tYkB"
      },
      "outputs": [],
      "source": [
        "model.train(train_ds)"
      ]
    },
    {
      "cell_type": "code",
      "execution_count": 30,
      "metadata": {
        "id": "41szARdqtdf6"
      },
      "outputs": [],
      "source": [
        "pred = model.classify(test_ds)"
      ]
    },
    {
      "cell_type": "code",
      "execution_count": 31,
      "metadata": {
        "id": "IkCKSs65tg3i"
      },
      "outputs": [],
      "source": [
        "def accuracy(y_pred, y_target):\n",
        "  return np.where(y_pred == y_target, 1, 0).sum()/len(y_target)"
      ]
    },
    {
      "cell_type": "code",
      "execution_count": 32,
      "metadata": {
        "colab": {
          "base_uri": "https://localhost:8080/"
        },
        "id": "WPdqZ24ptiYp",
        "outputId": "11ed20f3-ecc7-4800-8b39-eea19d216a13"
      },
      "outputs": [
        {
          "data": {
            "text/plain": [
              "np.float64(0.9331514324693042)"
            ]
          },
          "execution_count": 32,
          "metadata": {},
          "output_type": "execute_result"
        }
      ],
      "source": [
        "accuracy(pred, y_test)"
      ]
    }
  ],
  "metadata": {
    "colab": {
      "provenance": []
    },
    "kernelspec": {
      "display_name": "env",
      "language": "python",
      "name": "python3"
    },
    "language_info": {
      "codemirror_mode": {
        "name": "ipython",
        "version": 3
      },
      "file_extension": ".py",
      "mimetype": "text/x-python",
      "name": "python",
      "nbconvert_exporter": "python",
      "pygments_lexer": "ipython3",
      "version": "3.12.3"
    }
  },
  "nbformat": 4,
  "nbformat_minor": 0
}
