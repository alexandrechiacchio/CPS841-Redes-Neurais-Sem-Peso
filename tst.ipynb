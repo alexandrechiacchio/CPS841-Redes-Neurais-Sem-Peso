{
 "cells": [
  {
   "cell_type": "code",
   "execution_count": 1,
   "id": "0746d221",
   "metadata": {},
   "outputs": [],
   "source": [
    "import wisardpkg as wp\n",
    "import numpy as np\n",
    "import matplotlib.pyplot as plt\n",
    "from sklearn.datasets import fetch_openml\n",
    "from sklearn.model_selection import train_test_split\n"
   ]
  },
  {
   "cell_type": "code",
   "execution_count": 2,
   "id": "92d1802c",
   "metadata": {},
   "outputs": [],
   "source": [
    "MNIST = fetch_openml('mnist_784', version=1, as_frame=False)\n",
    "\n",
    "X = MNIST.data\n",
    "y = MNIST.target.astype(int)"
   ]
  },
  {
   "cell_type": "code",
   "execution_count": 3,
   "id": "61f21903",
   "metadata": {},
   "outputs": [
    {
     "data": {
      "image/png": "[encoded data removed]",
      "text/plain": [
       "<Figure size 1200x500 with 10 Axes>"
      ]
     },
     "metadata": {},
     "output_type": "display_data"
    }
   ],
   "source": [
    "indices = np.random.choice(len(X), 10, replace=False)\n",
    "fig, axes = plt.subplots(2, 5, figsize=(12, 5))\n",
    "for ax, idx in zip(axes.flatten(), indices):\n",
    "    ax.imshow(X[idx].reshape(28, 28), cmap='gray')\n",
    "    ax.set_title(f\"Label: {y[idx]}\")\n",
    "    ax.axis('off')\n",
    "plt.tight_layout()\n",
    "plt.show()\n",
    "\n"
   ]
  },
  {
   "cell_type": "code",
   "execution_count": 4,
   "id": "dbaa8554",
   "metadata": {},
   "outputs": [],
   "source": [
    "kc = wp.KernelCanvas(784, 10, bitsByKernel=3, activationDegree=0.07, useDirection=False)"
   ]
  },
  {
   "cell_type": "code",
   "execution_count": 5,
   "id": "81eb1041",
   "metadata": {},
   "outputs": [
    {
     "data": {
      "text/plain": [
       "numpy.ndarray"
      ]
     },
     "execution_count": 5,
     "metadata": {},
     "output_type": "execute_result"
    }
   ],
   "source": [
    "type(X[0])"
   ]
  },
  {
   "cell_type": "code",
   "execution_count": 6,
   "id": "b6d787fa",
   "metadata": {},
   "outputs": [],
   "source": [
    "X_reshaped = X.reshape(-1, 28, 28)\n",
    "X_reshaped[0].shape\n",
    "X_train, X_test, y_train, y_test = train_test_split(X_reshaped, y, test_size=0.2, random_state=42)\n"
   ]
  },
  {
   "cell_type": "code",
   "execution_count": 7,
   "id": "5691b519",
   "metadata": {},
   "outputs": [
    {
     "data": {
      "image/png": "[encoded data removed]",
      "text/plain": [
       "<Figure size 640x480 with 1 Axes>"
      ]
     },
     "metadata": {},
     "output_type": "display_data"
    }
   ],
   "source": [
    "def drawFig(idx):\n",
    "    plt.imshow(X_reshaped[idx], cmap='gray')\n",
    "    plt.title(f\"Label: {y[idx]}\")\n",
    "    plt.axis('off')\n",
    "    plt.show()\n",
    "    \n",
    "drawFig(0)"
   ]
  },
  {
   "cell_type": "code",
   "execution_count": 8,
   "id": "c615fa59",
   "metadata": {},
   "outputs": [],
   "source": [
    "from abc import ABC, abstractmethod\n",
    "\n",
    "class KernelCanvas(ABC):\n",
    "    def __init__(self) -> None:\n",
    "        super().__init__()\n",
    "        \n",
    "    @abstractmethod\n",
    "    def makeKernel(self):\n",
    "        pass"
   ]
  },
  {
   "cell_type": "code",
   "execution_count": 9,
   "id": "5497614d",
   "metadata": {},
   "outputs": [],
   "source": [
    "class RandomKernelCanvas(KernelCanvas):\n",
    "    def __init__(self, shape : tuple, numberOfKernels : int, bitsByKernel : int = 3, activationDegree : float = 0.07):\n",
    "        self.numberOfKernels = numberOfKernels\n",
    "        self.bitsByKernel = bitsByKernel\n",
    "        self.activationDegree = activationDegree\n",
    "        self.shape = shape\n",
    "        self.closestKernel: dict[tuple[int, int], int] = {}\n",
    "        super().__init__()\n",
    "        \n",
    "        self.makeKernel()\n",
    "        self.findClosestKernels()\n",
    "        \n",
    "    def squareDistance(self, x, y):\n",
    "        return np.sum(np.pow(x - y, 2))\n",
    "        \n",
    "    def makeKernel(self):\n",
    "        points = np.random.choice(np.prod(self.shape), size=self.numberOfKernels, replace=False)\n",
    "        self.kernel_points = [(point // self.shape[1], point % self.shape[1]) for point in points]\n",
    "        \n",
    "    def showKernelPoints(self):\n",
    "        canvas = np.ones((*self.shape, 3))  # All white squares, RGB\n",
    "\n",
    "        # Paint the kernel points red\n",
    "        for row, col in self.kernel_points:\n",
    "            canvas[row, col] = [1, 0, 0]  # Red color (R=1, G=0, B=0)\n",
    "\n",
    "        fig, ax = plt.subplots()\n",
    "        ax.imshow(canvas, vmin=0, vmax=1)\n",
    "        plt.show()\n",
    "        \n",
    "    def findClosestKernels(self):\n",
    "        for i in range(self.shape[0]):\n",
    "            for j in range(self.shape[1]):\n",
    "                self.closestKernel[(i, j)] = int(self.findClosestKernel((i, j)))\n",
    "        \n",
    "    def findClosestKernel(self, x):\n",
    "        distances = [self.squareDistance(x, np.array(self.kernel_points[i])) for i in range(self.numberOfKernels)]\n",
    "        return np.argmin(distances)\n",
    "        \n",
    "    def showCanvas(self):\n",
    "        canvas = np.ones((*self.shape, 3))  # All white squares, RGB\n",
    "\n",
    "        # Paint the kernel points red\n",
    "        for row, col in self.kernel_points:\n",
    "            canvas[row, col] = [1, 0, 0]  # Red color (R=1, G=0, B=0)\n",
    "        \n",
    "        fig, ax = plt.subplots()\n",
    "        ax.imshow(canvas, vmin=0, vmax=1)\n",
    "        \n",
    "         # Add numbers to each square\n",
    "        for i in range(self.shape[0]):\n",
    "            for j in range(self.shape[1]):\n",
    "                ax.text(j, i, str(self.findClosestKernel((i, j))), \n",
    "                        va='center', ha='center', color='black', fontsize=6)\n",
    "\n",
    "        plt.show()\n",
    "        \n",
    "    def transform(self, data) -> list:\n",
    "        if data.shape != self.shape:\n",
    "            raise ValueError(f\"Input data shape {data.shape} does not match expected shape {self.shape}\")\n",
    "        ret = [0 for _ in range(self.numberOfKernels)]\n",
    "        # ret = np.zeros(self.numberOfKernels, dtype=int)\n",
    "        for i in range(data.shape[0]):\n",
    "            for j in range(data.shape[1]):\n",
    "                kernel_index = self.closestKernel[(i, j)]\n",
    "                if(data[i, j] > self.activationDegree):\n",
    "                    ret[kernel_index] = 1\n",
    "        return ret\n",
    "    \n",
    "    def showTransformed(self, TransformedData):\n",
    "        if len(TransformedData) != self.numberOfKernels:\n",
    "            raise ValueError(f\"Transformed data length {len(TransformedData)} does not match number of kernels {self.numberOfKernels}\")\n",
    "        \n",
    "        canvas = np.ones((*self.shape, 3))  # All white squares, RGB\n",
    "\n",
    "        \n",
    "        \n",
    "        # paint the activated kernels\n",
    "        for i in range(self.shape[0]):\n",
    "            for j in range(self.shape[1]):\n",
    "                if(TransformedData[self.closestKernel[(i, j)]]):\n",
    "                    canvas[i, j] = [0, 0, 0]\n",
    "\n",
    "        # Paint the kernel points red\n",
    "        for row, col in self.kernel_points:\n",
    "            canvas[row, col] = [1, 0, 0]  # Red color (R=1, G=0, B=0)\n",
    "            \n",
    "        fig, ax = plt.subplots()\n",
    "        ax.imshow(canvas, vmin=0, vmax=1)\n",
    "        plt.show()\n",
    "                    \n",
    "                "
   ]
  },
  {
   "cell_type": "code",
   "execution_count": 10,
   "id": "109dd3d4",
   "metadata": {},
   "outputs": [
    {
     "data": {
      "text/plain": [
       "[(np.int64(0), np.int64(5)),\n",
       " (np.int64(15), np.int64(20)),\n",
       " (np.int64(11), np.int64(26)),\n",
       " (np.int64(26), np.int64(5)),\n",
       " (np.int64(5), np.int64(19)),\n",
       " (np.int64(12), np.int64(12)),\n",
       " (np.int64(13), np.int64(26)),\n",
       " (np.int64(21), np.int64(0)),\n",
       " (np.int64(24), np.int64(22)),\n",
       " (np.int64(3), np.int64(26)),\n",
       " (np.int64(15), np.int64(6)),\n",
       " (np.int64(25), np.int64(6)),\n",
       " (np.int64(6), np.int64(15)),\n",
       " (np.int64(21), np.int64(8)),\n",
       " (np.int64(15), np.int64(5)),\n",
       " (np.int64(19), np.int64(20))]"
      ]
     },
     "execution_count": 10,
     "metadata": {},
     "output_type": "execute_result"
    }
   ],
   "source": [
    "tst = RandomKernelCanvas((28, 28), 16, bitsByKernel=1, activationDegree=0.07)\n",
    "tst.kernel_points"
   ]
  },
  {
   "cell_type": "code",
   "execution_count": 11,
   "id": "a73a79ad",
   "metadata": {},
   "outputs": [
    {
     "data": {
      "image/png": "[encoded data removed]",
      "text/plain": [
       "<Figure size 640x480 with 1 Axes>"
      ]
     },
     "metadata": {},
     "output_type": "display_data"
    },
    {
     "data": {
      "image/png": "[encoded data removed]",
      "text/plain": [
       "<Figure size 640x480 with 1 Axes>"
      ]
     },
     "metadata": {},
     "output_type": "display_data"
    }
   ],
   "source": [
    "tst.showKernelPoints()\n",
    "tst.showCanvas()"
   ]
  },
  {
   "cell_type": "code",
   "execution_count": 12,
   "id": "98ba739a",
   "metadata": {},
   "outputs": [
    {
     "name": "stdout",
     "output_type": "stream",
     "text": [
      "[1, 1, 0, 1, 1, 1, 0, 0, 0, 1, 0, 1, 1, 1, 0, 1]\n"
     ]
    },
    {
     "data": {
      "image/png": "[encoded data removed]",
      "text/plain": [
       "<Figure size 640x480 with 1 Axes>"
      ]
     },
     "metadata": {},
     "output_type": "display_data"
    },
    {
     "data": {
      "image/png": "[encoded data removed]",
      "text/plain": [
       "<Figure size 640x480 with 1 Axes>"
      ]
     },
     "metadata": {},
     "output_type": "display_data"
    }
   ],
   "source": [
    "print(tst.transform(X_reshaped[0]))\n",
    "drawFig(0)\n",
    "tst.showTransformed(tst.transform(X_reshaped[0]))"
   ]
  },
  {
   "cell_type": "code",
   "execution_count": null,
   "id": "9bd81dd0",
   "metadata": {},
   "outputs": [],
   "source": [
    "from concurrent.futures import ProcessPoolExecutor\n",
    "\n",
    "with ProcessPoolExecutor() as executor: train_points = list(executor.map(tst.transform, X_train))\n",
    "with ProcessPoolExecutor() as executor: test_points = list(executor.map(tst.transform, X_test))\n",
    "\n",
    "\n",
    "# train_points = np.array(train_points)\n",
    "# test_points = np.array(test_points)\n",
    "train_ds = wp.DataSet(train_points, y_train)\n",
    "test_ds = wp.DataSet(test_points, y_test)"
   ]
  },
  {
   "cell_type": "code",
   "execution_count": 25,
   "id": "a0e975b7",
   "metadata": {},
   "outputs": [
    {
     "data": {
      "text/plain": [
       "array([[0, 1, 0, ..., 1, 0, 1],\n",
       "       [0, 1, 1, ..., 1, 0, 1],\n",
       "       [0, 1, 0, ..., 1, 0, 1],\n",
       "       ...,\n",
       "       [0, 1, 0, ..., 1, 0, 1],\n",
       "       [0, 1, 1, ..., 1, 0, 1],\n",
       "       [0, 1, 1, ..., 1, 1, 1]], shape=(56000, 16))"
      ]
     },
     "execution_count": 25,
     "metadata": {},
     "output_type": "execute_result"
    }
   ],
   "source": [
    "np.array(train_points)"
   ]
  },
  {
   "cell_type": "markdown",
   "id": "3f9f7edc",
   "metadata": {},
   "source": [
    "```\n",
    "addressSize=3\n",
    "\n",
    "wsd = Wisard(\n",
    "   addressSize,              # required\n",
    "   bleachingActivated=True,  # optional\n",
    "   ignoreZero=False,         # optional\n",
    "   completeAddressing=True,  # optional\n",
    "   verbose=False,            # optional\n",
    "   indexes=[],               # optional\n",
    "   base=2,                   # optional\n",
    "   confidence=1,             # optional\n",
    "\n",
    "   ## types of return of classify\n",
    "   returnActivationDegree=False, # optional\n",
    "   returnConfidence=False,       # optional\n",
    "   returnClassesDegrees=False    # optional\n",
    ")\n",
    "```\n"
   ]
  },
  {
   "cell_type": "code",
   "execution_count": 32,
   "id": "fa711a57",
   "metadata": {},
   "outputs": [],
   "source": [
    "model = wp.Wisard(4, bleaching=False, verbose=True)\n"
   ]
  },
  {
   "cell_type": "code",
   "execution_count": 27,
   "id": "3a949bbf",
   "metadata": {},
   "outputs": [
    {
     "data": {
      "text/plain": [
       "0"
      ]
     },
     "execution_count": 27,
     "metadata": {},
     "output_type": "execute_result"
    }
   ],
   "source": [
    "train_ds.get(0)[0]"
   ]
  },
  {
   "cell_type": "code",
   "execution_count": 33,
   "id": "1429bec6",
   "metadata": {},
   "outputs": [
    {
     "ename": "IndexError",
     "evalue": "unordered_map::at",
     "output_type": "error",
     "traceback": [
      "\u001b[31m---------------------------------------------------------------------------\u001b[39m",
      "\u001b[31mIndexError\u001b[39m                                Traceback (most recent call last)",
      "\u001b[36mCell\u001b[39m\u001b[36m \u001b[39m\u001b[32mIn[33]\u001b[39m\u001b[32m, line 1\u001b[39m\n\u001b[32m----> \u001b[39m\u001b[32m1\u001b[39m \u001b[43mmodel\u001b[49m\u001b[43m.\u001b[49m\u001b[43mtrain\u001b[49m\u001b[43m(\u001b[49m\u001b[43mtrain_ds\u001b[49m\u001b[43m)\u001b[49m\n",
      "\u001b[31mIndexError\u001b[39m: unordered_map::at"
     ]
    },
    {
     "name": "stdout",
     "output_type": "stream",
     "text": [
      "training 1 of 56000"
     ]
    }
   ],
   "source": [
    "model.train(train_ds)"
   ]
  },
  {
   "cell_type": "code",
   "execution_count": null,
   "id": "32c812d9",
   "metadata": {},
   "outputs": [],
   "source": [
    "pred = model.classify(test_ds)"
   ]
  },
  {
   "cell_type": "code",
   "execution_count": null,
   "id": "6d907a50",
   "metadata": {},
   "outputs": [
    {
     "data": {
      "text/plain": [
       "''"
      ]
     },
     "execution_count": 94,
     "metadata": {},
     "output_type": "execute_result"
    }
   ],
   "source": [
    "model.classify(test_ds[0])"
   ]
  },
  {
   "cell_type": "code",
   "execution_count": null,
   "id": "eb29d00f",
   "metadata": {},
   "outputs": [
    {
     "data": {
      "text/plain": [
       "np.float64(0.0)"
      ]
     },
     "execution_count": 93,
     "metadata": {},
     "output_type": "execute_result"
    }
   ],
   "source": [
    "def accuracy(y_pred, y_target):\n",
    "  return np.where(y_pred == y_target, 1, 0).sum()/len(y_target)\n",
    "\n",
    "accuracy(pred, y_test)"
   ]
  }
 ],
 "metadata": {
  "kernelspec": {
   "display_name": "env",
   "language": "python",
   "name": "python3"
  },
  "language_info": {
   "codemirror_mode": {
    "name": "ipython",
    "version": 3
   },
   "file_extension": ".py",
   "mimetype": "text/x-python",
   "name": "python",
   "nbconvert_exporter": "python",
   "pygments_lexer": "ipython3",
   "version": "3.12.3"
  }
 },
 "nbformat": 4,
 "nbformat_minor": 5
}
